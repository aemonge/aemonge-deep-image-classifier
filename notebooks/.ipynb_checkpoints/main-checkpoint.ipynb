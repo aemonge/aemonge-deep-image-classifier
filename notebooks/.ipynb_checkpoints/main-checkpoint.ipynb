{
 "cells": [
  {
   "cell_type": "markdown",
   "metadata": {
    "jukit_cell_id": "JEszbIJb4l"
   },
   "source": [
    "# My very first Image Classifier\n",
    "> [aemonge](https://www.aemonge.com)"
   ]
  },
  {
   "cell_type": "code",
   "execution_count": null,
   "metadata": {
    "jukit_cell_id": "jYyKGfUsv5"
   },
   "outputs": [],
   "source": [
    "# %matplotlib inline # pyright ignore\n",
    "# %config InlineBackend.figure_format = 'retina'\n",
    "\n",
    "from typing import OrderedDict\n",
    "import matplotlib.pyplot as plt\n",
    "\n",
    "import torch\n",
    "from torch import nn, optim\n",
    "from torch.utils.data import DataLoader\n",
    "from torchvision import datasets, models, transforms\n",
    "\n",
    "import helper\n",
    "\n",
    "EPOCHS = 10\n",
    "LEARNING_RATE = 0.003\n",
    "USE_PRELEARNED = True\n",
    "USE_GPU = False"
   ]
  },
  {
   "cell_type": "code",
   "execution_count": null,
   "metadata": {
    "jukit_cell_id": "3iz545WjRB"
   },
   "outputs": [],
   "source": [
    "###\n",
    "data_dir = './pets_images/train'\n",
    "test_data_dir = './pets_images/test'\n",
    "\n",
    "transform = transforms.Compose([transforms.Resize(255), transforms.CenterCrop(224), transforms.ToTensor()])\n",
    "trains_data_set = datasets.ImageFolder(data_dir, transform = transform)\n",
    "dataloader = DataLoader(trains_data_set, batch_size=32, shuffle=True)\n",
    "# Run this to test your data loader\n",
    "images, labels = next(iter(dataloader))\n",
    "helper.imshow(images[0], normalize=False)\n",
    "\n",
    "##\n",
    "data_dir = './pets_images'\n",
    "mean_norm = [0.485, 0.456, 0.406]\n",
    "std_norm  = [0.229, 0.224, 0.225]\n",
    "expected_size = (224, 224)\n",
    "\n",
    "train_transforms = transforms.Compose([\n",
    "    transforms.RandomRotation(44),\n",
    "    transforms.RandomResizedCrop(203),\n",
    "    transforms.RandomHorizontalFlip(),\n",
    "    transforms.RandomRotation(134),\n",
    "    transforms.RandomHorizontalFlip(),\n",
    "    transforms.ToTensor(),\n",
    "    transforms.Normalize(mean_norm, std_norm)\n",
    "])\n",
    "test_transforms = transforms.Compose([\n",
    "    transforms.Resize(expected_size),\n",
    "    transforms.CenterCrop(224),\n",
    "    transforms.ToTensor()\n",
    "])\n",
    "\n",
    "train_data = datasets.ImageFolder(data_dir + \"/train\", transform = train_transforms)\n",
    "test_data = datasets.ImageFolder(data_dir + \"/test\", transform = test_transforms)\n",
    "\n",
    "trainloader = DataLoader(train_data, batch_size=32)\n",
    "testloader  = DataLoader(test_data,  batch_size=32)"
   ]
  },
  {
   "cell_type": "code",
   "execution_count": null,
   "metadata": {
    "jukit_cell_id": "jorKvq5nP1"
   },
   "outputs": [],
   "source": [
    "data_iter = iter(testloader)\n",
    "\n",
    "images, labels = next(data_iter)\n",
    "fig, axes = plt.subplots(figsize=(10,4), ncols=4)\n",
    "for ii in range(4):\n",
    "    ax = axes[ii]\n",
    "    helper.imshow(images[ii], ax=ax, normalize=False)"
   ]
  },
  {
   "cell_type": "code",
   "execution_count": null,
   "metadata": {
    "jukit_cell_id": "CI6M6wLGoE"
   },
   "outputs": [],
   "source": [
    "data_iter = iter(trainloader)\n",
    "\n",
    "images, labels = next(data_iter)\n",
    "fig, axes = plt.subplots(figsize=(10,4), ncols=4)\n",
    "for ii in range(4):\n",
    "    ax = axes[ii]\n",
    "    helper.imshow(images[ii], ax=ax, normalize=False)"
   ]
  },
  {
   "cell_type": "code",
   "execution_count": null,
   "metadata": {
    "jukit_cell_id": "KtEyaMs6dW"
   },
   "outputs": [],
   "source": [
    "mymodel = nn.Sequential(\n",
    "    # nn.Linear(784, 128), nn.ReLU(), dropout(),\n",
    "    nn.Linear(784, 128), nn.Softshrink(), nn.Dropout(0.18),\n",
    "    nn.Linear(128,  64), nn.ReLU(), nn.Dropout(0.18),\n",
    "    nn.Linear( 64,  64), nn.ReLU(), nn.Dropout(0.18),\n",
    "    nn.Linear( 64,  32), nn.ReLU(), nn.Dropout(0.18),\n",
    "    nn.Linear( 32, 128), nn.Softmax(), nn.Dropout(0.18),\n",
    "    nn.Linear(128,  10), nn.LogSoftmax(dim=1), # output on the densenet is 1_000\n",
    ")\n",
    "if USE_PRELEARNED:\n",
    "    model = models.densenet121(pretrained=True) # OR VGGNet\n",
    "else:\n",
    "    model = mymodel\n",
    "\n",
    "# Statistics\n",
    "# ps = torch.exp(model(images))\n",
    "# top_p, top_class = ps.topk(1, dim=1)\n",
    "# equals = top_class == labels.view(*top_class.shape)\n",
    "# accuracy = torch.mean(equals.type(torch.FloatTensor))\n",
    "\n",
    "# Freeze our Feat Params, aka no updates nor backtracking.\n",
    "if USE_PRELEARNED:\n",
    "    for p in model.parameters():\n",
    "        p.requires_grad = False\n",
    "\n",
    "    model.classifier = nn.Sequential(OrderedDict([\n",
    "        ('fc1', nn.Linear(1024, 500)),\n",
    "        ('relu', nn.ReLU()),\n",
    "        ('fc2', nn.Linear(500, 2)),\n",
    "        ('output', nn.LogSoftmax(dim=1))\n",
    "    ]))\n",
    "\n",
    "if USE_GPU:\n",
    "    model.cuda()\n",
    "else:\n",
    "    model.cpu()\n",
    "\n",
    "\n",
    "criterion = nn.NLLLoss()\n",
    "optimizer = optim.Adadelta(model.parameters(), lr=LEARNING_RATE)\n",
    "\n",
    "train_losses, test_losses = [], []\n",
    "for e in range(EPOCHS):\n",
    "    running_loss = 0\n",
    "    model.train()\n",
    "    for images, labels in trainloader:\n",
    "        optimizer.zero_grad()\n",
    "\n",
    "        log_ps = model(images)\n",
    "        loss = criterion(log_ps, labels)\n",
    "        loss.backward()\n",
    "        optimizer.step()\n",
    "\n",
    "        running_loss += loss.item()\n",
    "\n",
    "    else:\n",
    "        model.eval()\n",
    "        # print(f'Accuracy: {accuracy.item()*100}%')\n",
    "\n",
    "        t_running_loss = 0\n",
    "        test_correct = 0\n",
    "        with torch.no_grad():\n",
    "            for images, labels in testloader:\n",
    "                t_log_ps = model(images)\n",
    "                t_loss = criterion(t_log_ps, labels)\n",
    "\n",
    "                t_running_loss += t_loss.item()\n",
    "\n",
    "                ps = torch.exp(t_log_ps)\n",
    "                top_p, top_class = ps.topk(1, dim=1)\n",
    "                equals = top_class == labels.view(*top_class.shape)\n",
    "                test_correct += equals.sum().item()\n",
    "\n",
    "        print(f\"Epoch: { e + 1 }/{EPOCHS}\\n\",\n",
    "              \"Training Loss: {:.3f}.. \".format(running_loss),\n",
    "              \"Test Loss: {:.3f}.. \".format(t_running_loss),\n",
    "              \"Test Accuracy: {:.3f}\".format(test_correct / len(testloader.dataset)))"
   ]
  },
  {
   "cell_type": "markdown",
   "metadata": {
    "jukit_cell_id": "hc3wyO17Ek"
   },
   "source": [
    " 🍾 ⭐ Kudos !!!"
   ]
  }
 ],
 "metadata": {
  "anaconda-cloud": {},
  "kernelspec": {
   "display_name": "Python 3 (ipykernel)",
   "language": "python",
   "name": "python3"
  },
  "language_info": {
   "codemirror_mode": {
    "name": "ipython",
    "version": 3
   },
   "file_extension": ".py",
   "mimetype": "text/x-python",
   "name": "python",
   "nbconvert_exporter": "python",
   "pygments_lexer": "ipython3",
   "version": "3.10.8"
  }
 },
 "nbformat": 4,
 "nbformat_minor": 4
}
